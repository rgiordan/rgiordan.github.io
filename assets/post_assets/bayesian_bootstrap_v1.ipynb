{
 "cells": [
  {
   "cell_type": "markdown",
   "metadata": {},
   "source": [
    "# The Bayesian Bootstrap Is Not a Free Lunch"
   ]
  },
  {
   "cell_type": "markdown",
   "metadata": {},
   "source": [
    "Some recent work has suggested that we can solve computationally difficult, multi-modal Bayesian posterior calculations with optimization and bootstrap sampling.  There are many variations such methods; for shorthand I will simply refer to them collectively as Bayesian bootstrap (BB) methods.  It is true that BB can be practically quite informative, and, in certain problems, much more useful than any other out-of-the-box Bayesian methods which fail utterly to explore multiple modes.  Nevertheless, I will argue that BB methods do not, in general, produce an accurate approximation of a Bayesian posterior.  \n",
    "\n",
    "I will argue that when we are actually interested in a particular multi-modal parametric posterior but simply cannot sample from it, then BB methods will not, in general, approximate the desired posterior.  Of course, the BB is the right thing to do when we actually do have a proper Dirichlet process prior on a space of data distributions, and are interested in the output of a particular optimization problem as a posterior quantity.  But naively replacing a parametric Bayesian posterior quantity with a BB quantity risks (a) misinterpreting what is meant by an optimum and (b) misinterpreting what is meant by uncertainty.  I stress that I do not mean to argue that the BB is not useful.  A flawed answer can better than no answer at all.  But a flawed answer is even more useful when its potential shortcomings are well understood, and my aim is to clearly and intuitively illustrate these potential shortcomings.  "
   ]
  },
  {
   "cell_type": "markdown",
   "metadata": {},
   "source": [
    "### Model 1"
   ]
  },
  {
   "cell_type": "markdown",
   "metadata": {},
   "source": [
    "I will begin with a toy model which is simple and contrived.  Its simplicity is such that we can clearly see what the right Bayesian answer should be, and how the BB fails to replicate it.  I will argue in future, less simple examples that its contrivance is not so severe, and that the failure of the BB in this simple model illustrate its potential failures in more complex cases. "
   ]
  },
  {
   "cell_type": "markdown",
   "metadata": {},
   "source": [
    "Suppose we observe a vector of scalar, real-valued data $x=(x_1,...,x_N)$, drawn from the following model:\n",
    "\n",
    "$$\n",
    "\\begin{align}\n",
    "p(\\tau) &= \\mathrm{Gamma}(\\tau | 1, 1)\\\\\n",
    "p(x | \\tau) &= \\prod_{n=1}^N \\mathcal{N}(x_n | \\tau, 1).\n",
    "\\end{align}\n",
    "$$\n",
    "\n",
    "The unkown mean parameter $\\tau$ is positive, and all other aspects of the data generating process are known.  As stated, this is a simple problem.  Now, let us suppose that we are actually interested in a quantity $\\theta \\in \\mathbb{R}$, given by\n",
    "\n",
    "$$\n",
    "\\begin{align}\n",
    "z &\\in \\{-1, 1\\}\\\\\n",
    "p(z=1) &= 0.8\\\\\n",
    "\\theta &= z \\sqrt{\\tau}.\n",
    "\\end{align}\n",
    "$$\n",
    "\n",
    "Obviously, $|\\theta| = \\tau$, and $p(\\theta  > 0 | x) = 0.8$ because the data $x$ is independent of $z$, the sign of $\\theta$.\n",
    "\n",
    "Effectively, the sign of $\\theta$ is identified only by the prior, and the posterior $p(\\theta \\vert x)$ has both a positive mode and a negative mode, which it occupies with respective probabilities $0.8$ and $0.2$.  We can sample from the posterior of $p(\\theta | x)$ by sampling from $p(\\tau | x)$, drawing $z$ from its prior, and setting $\\theta = z \\tau$.\n",
    "\n",
    "Can the BB reproduce a reasonable approximation of the posterior $p(\\theta | x)$ in this trivial case?  Below, I will show that it cannot.  The reason is twofold and general.  Recall that the probability probability of a lying near a particular mode is determined by the posterior mass under the mode.  For example, in the present case, $p(\\theta > 0 | x) = \\int_{0}^{\\infty} p(\\theta | x) d\\theta = 0.8$.  However, in general,\n",
    "\n",
    "- The frequency with which an optimum finds a mode is not, in general, determined by the relative mass of a mode and\n",
    "- The variability of an optimum induced by the bootstrap is not, in general, determined by the relative mass of a mode. "
   ]
  },
  {
   "cell_type": "code",
   "execution_count": 1,
   "metadata": {},
   "outputs": [
    {
     "name": "stderr",
     "output_type": "stream",
     "text": [
      "── Attaching packages ─────────────────────────────────────── tidyverse 1.2.1 ──\n",
      "✔ ggplot2 3.1.0     ✔ purrr   0.2.5\n",
      "✔ tibble  1.4.2     ✔ dplyr   0.7.8\n",
      "✔ tidyr   0.8.1     ✔ stringr 1.3.1\n",
      "✔ readr   1.1.1     ✔ forcats 0.3.0\n",
      "── Conflicts ────────────────────────────────────────── tidyverse_conflicts() ──\n",
      "✖ dplyr::filter() masks stats::filter()\n",
      "✖ dplyr::lag()    masks stats::lag()\n",
      "Loading required package: StanHeaders\n",
      "rstan (Version 2.18.2, GitRev: 2e1f913d3ca3)\n",
      "For execution on a local, multicore CPU with excess RAM we recommend calling\n",
      "options(mc.cores = parallel::detectCores()).\n",
      "To avoid recompilation of unchanged Stan programs, we recommend calling\n",
      "rstan_options(auto_write = TRUE)\n",
      "\n",
      "Attaching package: ‘rstan’\n",
      "\n",
      "The following object is masked from ‘package:tidyr’:\n",
      "\n",
      "    extract\n",
      "\n",
      "\n",
      "Attaching package: ‘gridExtra’\n",
      "\n",
      "The following object is masked from ‘package:dplyr’:\n",
      "\n",
      "    combine\n",
      "\n"
     ]
    }
   ],
   "source": [
    "library(tidyverse)\n",
    "library(rstan)\n",
    "library(gridExtra)\n",
    "library(numDeriv)\n",
    "library(repr)\n",
    "\n",
    "# Change plot size to 4 x 3\n",
    "options(repr.plot.width=7, repr.plot.height=4)\n",
    "\n",
    "options(mc.cores=4)\n",
    "rstan_options(auto_write=TRUE)\n",
    "\n",
    "setwd(\"/home/rgiordan/Documents/git_repos/variational_bayes/bayesian_bootstrap\")"
   ]
  },
  {
   "cell_type": "code",
   "execution_count": 2,
   "metadata": {
    "collapsed": true
   },
   "outputs": [],
   "source": [
    "EvalLogPost <- function(theta, fit, z_prob) {\n",
    "  upars <- unconstrain_pars(fit, list(tau=theta ^ 2))\n",
    "  lp <- log_prob(fit, upars) + ifelse(theta > 0, log(z_prob), log(1 - z_prob))\n",
    "}\n",
    "\n",
    "GetThetaGridLp <- function(fit, z_prob, theta_max=NA) {\n",
    "  draws <- extract(fit)\n",
    "  if (!is.finite(theta_max)) {\n",
    "      theta_max <- 1.3 * max(abs(draws$theta))      \n",
    "  }\n",
    "  theta_grid <- seq(-1 * theta_max, theta_max, length.out=1000)\n",
    "  lp <- sapply(theta_grid, EvalLogPost, fit, z_prob)\n",
    "  return(data.frame(theta=theta_grid, lp=lp))\n",
    "}\n",
    "\n",
    "DrawAndFit <- function(N, z_prob, tau_prior_shape=1, tau_prior_rate=1, x_sd=1) {\n",
    "  tau_true <- rgamma(1, shape=tau_prior_shape, rate=tau_prior_rate)\n",
    "  x <- rnorm(N, mean=tau_true, sd=x_sd)\n",
    "  # Also save tau_true even though Stan doesn't use it.\n",
    "  bb_data <- list(x=x, N=N, prob=z_prob, x_sd=x_sd,\n",
    "                  tau_prior_shape=tau_prior_shape, tau_prior_rate=tau_prior_rate,\n",
    "                  tau_true=tau_true)\n",
    "\n",
    "  # The Stan model will exhibit some divergent transitions near 0, but that's\n",
    "  # not a real problem here.\n",
    "  fit <- stan(file='multimodal_v1.stan', data=bb_data)\n",
    "  return(list(fit=fit, bb_data=bb_data))  \n",
    "}"
   ]
  },
  {
   "cell_type": "markdown",
   "metadata": {},
   "source": [
    "Let's draw a dataset and look at the posterior of $\\theta$."
   ]
  },
  {
   "cell_type": "code",
   "execution_count": 3,
   "metadata": {},
   "outputs": [
    {
     "name": "stderr",
     "output_type": "stream",
     "text": [
      "hash mismatch so recompiling; make sure Stan code ends with a blank line\n"
     ]
    }
   ],
   "source": [
    "z_prob <- 0.8\n",
    "initial_fit <- DrawAndFit(N=50, z_prob=z_prob)\n",
    "fit <- initial_fit$fit"
   ]
  },
  {
   "cell_type": "code",
   "execution_count": 4,
   "metadata": {},
   "outputs": [
    {
     "name": "stdout",
     "output_type": "stream",
     "text": [
      "P(\\theta > 0) \\approx  0.7975 \n"
     ]
    },
    {
     "name": "stderr",
     "output_type": "stream",
     "text": [
      "`stat_bin()` using `bins = 30`. Pick better value with `binwidth`.\n"
     ]
    },
    {
     "data": {
      "image/png": "[encoded data removed]",
      "text/plain": [
       "plot without title"
      ]
     },
     "metadata": {},
     "output_type": "display_data"
    }
   ],
   "source": [
    "draws <- extract(fit)\n",
    "cat(\"P(\\\\theta > 0) \\\\approx \", mean(draws$theta > 0), \"\\n\")\n",
    "\n",
    "theta_lp <- GetThetaGridLp(fit, z_prob)\n",
    "grid.arrange(\n",
    "  ggplot(theta_lp) +\n",
    "    geom_line(aes(x=theta, y=lp)) +\n",
    "    ggtitle(\"Log posterior\")\n",
    ",\n",
    "  ggplot(theta_lp) +\n",
    "    geom_line(aes(x=theta, y=exp(lp))) +\n",
    "    ggtitle(\"Posterior\")\n",
    ",  \n",
    "    ggplot() + \n",
    "      geom_histogram(aes(x=draws$theta)) +\n",
    "      ggtitle(\"Draws\")\n",
    ", ncol=3\n",
    ")"
   ]
  },
  {
   "cell_type": "markdown",
   "metadata": {},
   "source": [
    "Now, let's see whether the Bayesian bootstrap will reproduce $p(\\theta > 0 | x) = 0.8$.\n",
    "\n",
    "First of all, note that reasonable optimizers (e.g. well-conditined gradient ascent) will find the positive mode if the initial value is positive, and the negative mode if the initial value is negative.  So, irrespective of the noise induced by the bootstrap, the BB estimate of $P(\\theta > 0)$ will be precisely the probability that the initial value for optimization is positive.  With uniform random restarts, this probability will be $0.5$, not $0.8$.\n",
    "\n",
    "A resonable question is whether drawing bootstrap samples of $x$ can overcome this obvious shortcoming.  Let's take a look."
   ]
  },
  {
   "cell_type": "code",
   "execution_count": 5,
   "metadata": {
    "collapsed": true
   },
   "outputs": [],
   "source": [
    "DrawBootstrapSample <- function(x) {\n",
    "    return(x[sample.int(length(x), replace=TRUE)])\n",
    "}\n",
    "\n",
    "GetBootstrapFit <- function(initial_fit) {\n",
    "  x_boot <- DrawBootstrapSample(initial_fit$bb_data$x)\n",
    "  bb_data_boot <- initial_fit$bb_data\n",
    "  bb_data_boot$x <- x_boot\n",
    "\n",
    "  # We only need the fit object, not the draws, so set samples to be very low and\n",
    "  # suppress output and warnings.\n",
    "  options(warn=-1)\n",
    "  invisible(capture.output(\n",
    "      fit_boot <- stan(file='multimodal_v1.stan',\n",
    "                       data=bb_data_boot, iter=1, chains=1)))\n",
    "  options(warn=0)\n",
    "  return(list(x_boot=x_boot, fit_boot=fit_boot))\n",
    "}\n"
   ]
  },
  {
   "cell_type": "code",
   "execution_count": 6,
   "metadata": {
    "scrolled": false
   },
   "outputs": [
    {
     "name": "stdout",
     "output_type": "stream",
     "text": [
      "[1] 1\n",
      "[1] 2\n",
      "[1] 3\n",
      "[1] 4\n",
      "[1] 5\n",
      "[1] 6\n",
      "[1] 7\n",
      "[1] 8\n",
      "[1] 9\n",
      "[1] 10\n"
     ]
    }
   ],
   "source": [
    "theta_max <- 2 * max(abs(draws$theta))\n",
    "mean_abs_theta <- mean(abs(draws$theta))\n",
    "\n",
    "boot_lp_df <- data.frame()\n",
    "for (b in 1:10) {\n",
    "    print(b)\n",
    "    boot_fit <- GetBootstrapFit(initial_fit)\n",
    "    theta_lp <- GetThetaGridLp(boot_fit$fit, z_prob, theta_max)\n",
    "    boot_lp_df <- bind_rows(boot_lp_df, theta_lp %>% mutate(b=as.character(b)))\n",
    "}"
   ]
  },
  {
   "cell_type": "markdown",
   "metadata": {},
   "source": [
    "As we can see, the bootstrap variability is never such that the lower mode is larger than the higher mode.  Consequently, if our optimization method finds the global optimum rather than a local optimum, it will estimate $p(\\theta > 0 | x) = 1$."
   ]
  },
  {
   "cell_type": "code",
   "execution_count": 7,
   "metadata": {},
   "outputs": [
    {
     "data": {},
     "metadata": {},
     "output_type": "display_data"
    },
    {
     "data": {
      "image/png": "[encoded data removed]",
      "text/plain": [
       "plot without title"
      ]
     },
     "metadata": {},
     "output_type": "display_data"
    }
   ],
   "source": [
    "boot_lp_df <-\n",
    "    boot_lp_df %>%\n",
    "    group_by(b) %>%\n",
    "    mutate(lp_norm=lp - log(sum(exp(lp)))) # Were this to be a density you would need the delta x\n",
    "\n",
    "ggplot(boot_lp_df) +\n",
    "    geom_line(aes(x=theta, y=exp(lp_norm), group=b), alpha=0.2) +\n",
    "    xlim(-2.5, 2.5)"
   ]
  },
  {
   "cell_type": "markdown",
   "metadata": {},
   "source": [
    "Let's check this formally by actually optimizing a number of bootstrap samples."
   ]
  },
  {
   "cell_type": "code",
   "execution_count": 8,
   "metadata": {
    "collapsed": true
   },
   "outputs": [],
   "source": [
    "GetMAP <- function(fit, init_val=NA, width=NA, pos=TRUE) {\n",
    "  # init_val and width are in the log space.\n",
    "  x_sign <- (sign(pos) * 2 - 1)\n",
    "  Objective <- function(log_x) {\n",
    "    x <- x_sign * exp(log_x)\n",
    "    # The log probability doesn't matter because we're only finding the optimum in\n",
    "    # one of the two modes.\n",
    "    return(-1 * EvalLogPost(x, fit, 0.5))\n",
    "  }\n",
    "  if (!is.finite(init_val)) {\n",
    "    init_val  <- log(mean(sqrt(extract(fit, \"tau\")$tau)))\n",
    "  }\n",
    "  if (!is.finite(width)) {\n",
    "    width <- 4 * sd(log(sqrt(extract(fit, \"tau\")$tau)))\n",
    "  }\n",
    "  opt <- optim(init_val, Objective, method=\"Brent\",\n",
    "               upper=init_val + width, lower=init_val - width)\n",
    "  opt$par_theta <- x_sign * exp(opt$par)\n",
    "  return(opt)\n",
    "}\n",
    "\n",
    "\n",
    "GetBootstrapResult <- function(fit_boot, z_prob, init_val=NA, width=NA) {\n",
    "  boot_opt <- GetMAP(fit_boot, pos=TRUE, init_val=init_val, width=width)\n",
    "  lp_neg <- EvalLogPost(-1 * boot_opt$par_theta, fit_boot, z_prob)\n",
    "  lp_pos <- EvalLogPost(boot_opt$par_theta, fit_boot, z_prob)\n",
    "  lp_hess_neg <- hessian(\n",
    "      function(x) EvalLogPost(x, fit_boot, z_prob),\n",
    "      -1 * boot_opt$par_theta)[1, 1]\n",
    "  lp_hess_pos <- hessian(\n",
    "      function(x) EvalLogPost(x, fit_boot, z_prob),\n",
    "      boot_opt$par_theta)[1, 1]\n",
    "\n",
    "  return(data.frame(\n",
    "    theta_opt=ifelse(lp_pos > lp_neg, 1, -1) * boot_opt$par_theta,\n",
    "    lp_pos=lp_pos,\n",
    "    lp_neg=lp_neg,\n",
    "    lp_hess_neg=lp_hess_neg,\n",
    "    lp_hess_pos=lp_hess_pos\n",
    "  ))\n",
    "}"
   ]
  },
  {
   "cell_type": "code",
   "execution_count": 9,
   "metadata": {
    "scrolled": false
   },
   "outputs": [],
   "source": [
    "init_val  <- log(mean(sqrt(draws$tau)))\n",
    "width <- 4 * sd(log(sqrt(draws$tau)))\n",
    "\n",
    "B <- 50\n",
    "boot_df <- data.frame()\n",
    "boot_time <- Sys.time()\n",
    "\n",
    "for (b in 1:B) {\n",
    "  fit_boot <- GetBootstrapFit(initial_fit)$fit_boot\n",
    "  boot_df <- bind_rows(\n",
    "      boot_df,\n",
    "      GetBootstrapResult(fit_boot, z_prob, init_val=init_val, width=width))\n",
    "}\n",
    "boot_time <- Sys.time() - boot_time\n"
   ]
  },
  {
   "cell_type": "code",
   "execution_count": 10,
   "metadata": {},
   "outputs": [
    {
     "name": "stdout",
     "output_type": "stream",
     "text": [
      "BB estimate of P(\\thetasign(boot_df$theta_opt):  1 \n"
     ]
    }
   ],
   "source": [
    "cat(\"BB estimate of P(\\\\thetasign(boot_df$theta_opt): \", mean(boot_df$theta_opt > 0), \"\\n\")"
   ]
  },
  {
   "cell_type": "markdown",
   "metadata": {},
   "source": [
    "### Summary\n",
    "\n",
    "In summary, there are two flavors of the BB: one which finds a local optimum, and one which finds a global optimum.  The former estimates $p(\\theta > 0 | x) \\approx 0.5$, and the latter estimates $p(\\theta > 0 | x) \\approx 1.0$.  Neither is a good estimate of the true $p(\\theta > 0 | x) = 0.8$.\n",
    "\n",
    "What has gone wrong?  The value chosen by the BB depends on two things:\n",
    "- The domain of attraction and the distribution of the starting point\n",
    "- The variability of the height of the optima under data resampling.\n",
    "\n",
    "Neither of these quantites necessarily have anything to do with the real posterior probability, which is the mass under the mode."
   ]
  },
  {
   "cell_type": "markdown",
   "metadata": {},
   "source": [
    "### Model\n",
    "\n",
    "For reference, here is a dump of the Stan model."
   ]
  },
  {
   "cell_type": "code",
   "execution_count": 16,
   "metadata": {},
   "outputs": [
    {
     "name": "stdout",
     "output_type": "stream",
     "text": [
      "data {\n",
      "  int<lower=0> N;\n",
      "  real x[N];\n",
      "  real<lower=0> x_sd;\n",
      "  real<lower=0, upper=1> prob;\n",
      "  real<lower=0> tau_prior_shape;\n",
      "  real<lower=0> tau_prior_rate;\n",
      "}\n",
      "parameters {\n",
      "  real<lower=0> tau;\n",
      "}\n",
      "model {\n",
      "  tau ~ gamma(tau_prior_shape, tau_prior_rate);\n",
      "  x ~ normal(tau, x_sd);\n",
      "}\n",
      "generated quantities {\n",
      "  real theta;\n",
      "  int z;\n",
      "  z = 2 * bernoulli_rng(prob) - 1;\n",
      "  theta = z * sqrt(tau);\n",
      "}\n"
     ]
    }
   ],
   "source": [
    "cat(scan(\"multimodal_v1.stan\", what=\"character\", sep=\"\\n\"), sep=\"\\n\")"
   ]
  }
 ],
 "metadata": {
  "kernelspec": {
   "display_name": "R",
   "language": "R",
   "name": "ir"
  },
  "language_info": {
   "codemirror_mode": "r",
   "file_extension": ".r",
   "mimetype": "text/x-r-source",
   "name": "R",
   "pygments_lexer": "r",
   "version": "3.4.4"
  }
 },
 "nbformat": 4,
 "nbformat_minor": 2
}
